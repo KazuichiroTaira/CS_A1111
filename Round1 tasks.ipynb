{
 "cells": [
  {
   "cell_type": "markdown",
   "id": "broadband-pepper",
   "metadata": {},
   "source": [
    "Round 1, Task 2: The first program"
   ]
  },
  {
   "cell_type": "code",
   "execution_count": null,
   "id": "million-helping",
   "metadata": {},
   "outputs": [],
   "source": [
    "display = \"Programming is fun!\"\n",
    "print(display)"
   ]
  },
  {
   "cell_type": "markdown",
   "id": "sized-budapest",
   "metadata": {},
   "source": [
    "Round 1, Problem 3: Boolean counter"
   ]
  },
  {
   "cell_type": "code",
   "execution_count": null,
   "id": "jewish-female",
   "metadata": {},
   "outputs": [],
   "source": [
    "def ac():\n",
    "    line = input(\"Enter the amount of the alcoholic drink (l).:\")\n",
    "    aald = float(line)\n",
    "    line = input(\"Enter the alcohol content of the alcoholic drink (%).: \")\n",
    "    poa = float(line)\n",
    "    line = input(\"How much non-alcoholic drink do you want to add (l)?: \")\n",
    "    adnal = float(line)\n",
    "    countAL = (poa * aald) / (aald + adnal)\n",
    "    print(\"Alcohol content of the drink is\",countAL,\"%\")\n",
    "ac()"
   ]
  },
  {
   "cell_type": "markdown",
   "id": "wooden-phrase",
   "metadata": {},
   "source": [
    "Round 1, Task 4: Fruit"
   ]
  },
  {
   "cell_type": "code",
   "execution_count": null,
   "id": "through-attraction",
   "metadata": {},
   "outputs": [],
   "source": [
    "def fruit():\n",
    "    line = input(\"How much money do you have? :\")\n",
    "    cash = float(line)\n",
    "    nb = cash / (170 * (1.49 / 1000))\n",
    "    na = cash / (170 * (2.49 / 1000))\n",
    "    no = cash / (270 * (1.99 / 1000))\n",
    "    print(\"you can buy\", int(nb), \"bananas\")\n",
    "    print(\"you can buy\", int(na), \"apples\")\n",
    "    print(\"you can buy\", int(no), \"oranges\")\n",
    "fruit()"
   ]
  }
 ],
 "metadata": {
  "kernelspec": {
   "display_name": "Python 3",
   "language": "python",
   "name": "python3"
  },
  "language_info": {
   "codemirror_mode": {
    "name": "ipython",
    "version": 3
   },
   "file_extension": ".py",
   "mimetype": "text/x-python",
   "name": "python",
   "nbconvert_exporter": "python",
   "pygments_lexer": "ipython3",
   "version": "3.9.1"
  },
  "toc": {
   "base_numbering": 1,
   "nav_menu": {},
   "number_sections": true,
   "sideBar": true,
   "skip_h1_title": false,
   "title_cell": "Table of Contents",
   "title_sidebar": "Contents",
   "toc_cell": false,
   "toc_position": {},
   "toc_section_display": true,
   "toc_window_display": false
  },
  "varInspector": {
   "cols": {
    "lenName": 16,
    "lenType": 16,
    "lenVar": 40
   },
   "kernels_config": {
    "python": {
     "delete_cmd_postfix": "",
     "delete_cmd_prefix": "del ",
     "library": "var_list.py",
     "varRefreshCmd": "print(var_dic_list())"
    },
    "r": {
     "delete_cmd_postfix": ") ",
     "delete_cmd_prefix": "rm(",
     "library": "var_list.r",
     "varRefreshCmd": "cat(var_dic_list()) "
    }
   },
   "types_to_exclude": [
    "module",
    "function",
    "builtin_function_or_method",
    "instance",
    "_Feature"
   ],
   "window_display": false
  }
 },
 "nbformat": 4,
 "nbformat_minor": 5
}
