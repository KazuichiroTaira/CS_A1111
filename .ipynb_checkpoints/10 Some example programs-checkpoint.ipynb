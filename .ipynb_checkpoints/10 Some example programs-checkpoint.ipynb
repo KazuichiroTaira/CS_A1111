{
 "cells": [
  {
   "cell_type": "markdown",
   "id": "attempted-russian",
   "metadata": {},
   "source": [
    "Temperature in Fahrenheit and Celsius"
   ]
  },
  {
   "cell_type": "code",
   "execution_count": 5,
   "id": "economic-regression",
   "metadata": {},
   "outputs": [
    {
     "name": "stdout",
     "output_type": "stream",
     "text": [
      "enter the temperature in degrees Fahrenheit: 100\n",
      "100.0 F on 37.77777777777778 C\n"
     ]
    }
   ],
   "source": [
    "def FtoC():\n",
    "    line = input(\"enter the temperature in degrees Fahrenheit: \")\n",
    "    Fahrenheit = float (line)\n",
    "    celsius = (Fahrenheit - 32) * 5.0 / 9.0\n",
    "    print(Fahrenheit, \"F on\", celsius, \"C\")\n",
    "FtoC()"
   ]
  },
  {
   "cell_type": "markdown",
   "id": "looking-system",
   "metadata": {},
   "source": [
    "Room space by multiplication"
   ]
  },
  {
   "cell_type": "code",
   "execution_count": 7,
   "id": "tamil-offset",
   "metadata": {},
   "outputs": [
    {
     "name": "stdout",
     "output_type": "stream",
     "text": [
      "enter room width in meters: 23\n",
      "enter room length in meters: 23\n",
      "Room area is 529.0 four meters\n"
     ]
    }
   ],
   "source": [
    "def room_space():\n",
    "    line = input(\"enter room width in meters: \")\n",
    "    width = float(line)\n",
    "    line = input(\"enter room length in meters: \")\n",
    "    length = float(line)\n",
    "    area = width * length\n",
    "    print(\"Room area is\", area, \"four meters\")\n",
    "room_space()"
   ]
  },
  {
   "cell_type": "markdown",
   "id": "ranking-sleeve",
   "metadata": {},
   "source": [
    "Calculate a price of call"
   ]
  },
  {
   "cell_type": "code",
   "execution_count": 8,
   "id": "different-polish",
   "metadata": {},
   "outputs": [
    {
     "name": "stdout",
     "output_type": "stream",
     "text": [
      "The program calculates the price of the mobile call.\n",
      "Enter the call initiation fee. \\ n 2\n",
      "Enter the minute price of the call. \\ n 2\n",
      "Enter the dulation of the call in minutes. \\ n 2\n",
      "call cost is 6.0 euros\n"
     ]
    }
   ],
   "source": [
    "def potc():\n",
    "    print(\"The program calculates the price of the mobile call.\")\n",
    "    line = input(\"Enter the call initiation fee. \\ n \")\n",
    "    initiation_fee = float(line)\n",
    "    line = input(\"Enter the minute price of the call. \\ n \")\n",
    "    price_per_minute = float(line)\n",
    "    line = input(\"Enter the dulation of the call in minutes. \\ n \")\n",
    "    duration = float(line)\n",
    "    price = initiation_fee + duration * price_per_minute\n",
    "    print(\"call cost is\", price, \"euros\")\n",
    "\n",
    "potc()"
   ]
  },
  {
   "cell_type": "markdown",
   "id": "linear-recovery",
   "metadata": {},
   "source": [
    "Conversion of time - hours, minutes, and seconds into seconds. "
   ]
  },
  {
   "cell_type": "code",
   "execution_count": null,
   "id": "commercial-heritage",
   "metadata": {},
   "outputs": [],
   "source": [
    "def tcv_to_sec():\n",
    "    print(\"This program changes the length of a given time period to seconds.\")\n",
    "    line = input(\"Enter the hours of the time period. \\ n \")\n",
    "    hours = int(line)\n",
    "    line = input(\"Enter the minutes of the time period. \\ n\")\n",
    "    minutes = int(line)\n",
    "    line = input(\"Enter the seconds of the time period. \\ n \")\n",
    "    seconds = int(line)\n",
    "    time_seconds = hours * 3600 + minutes * 60 + seconds\n",
    "    print(\"Time period length is\", time_seconds, \"seconds.\")\n",
    "tcv_to_sec()"
   ]
  },
  {
   "cell_type": "markdown",
   "id": "united-scheme",
   "metadata": {},
   "source": [
    "Conversion of time - seconds into hours, minutes, and seconds"
   ]
  },
  {
   "cell_type": "code",
   "execution_count": 4,
   "id": "whole-nicholas",
   "metadata": {},
   "outputs": [
    {
     "name": "stdout",
     "output_type": "stream",
     "text": [
      "Enter the length of the time period in seconds. \\ n 18756\n",
      "Length is 5 h 12 m 36 s.\n"
     ]
    }
   ],
   "source": [
    "def tcv_to_HMS():\n",
    "    line = input(\"Enter the length of the time period in seconds. \\ n \")\n",
    "    length_seconds = int(line)\n",
    "    hours = length_seconds // 3600\n",
    "    sequence_seconds = length_seconds % 3600\n",
    "    minutes = sequence_seconds //60\n",
    "    seconds = sequence_seconds % 60\n",
    "    print(\"Length is\", hours, \"h\", minutes, \"m\", seconds, \"s.\")\n",
    "tcv_to_HMS()\n"
   ]
  },
  {
   "cell_type": "markdown",
   "id": "narrow-protein",
   "metadata": {},
   "source": [
    "Giving another example as 7218"
   ]
  },
  {
   "cell_type": "code",
   "execution_count": 9,
   "id": "surrounded-coordinate",
   "metadata": {},
   "outputs": [
    {
     "name": "stdout",
     "output_type": "stream",
     "text": [
      "Enter the length of the time period in seconds. \\ n 7218\n",
      "Length is 2 h 0 m 18 s.\n"
     ]
    }
   ],
   "source": [
    "def tcv_to_HMS():\n",
    "    line = input(\"Enter the length of the time period in seconds. \\ n \")\n",
    "    length_seconds = int(line)\n",
    "    hours = length_seconds // 3600\n",
    "    sequence_seconds = length_seconds % 3600\n",
    "    minutes = sequence_seconds //60\n",
    "    seconds = sequence_seconds % 60\n",
    "    print(\"Length is\", hours, \"h\", minutes, \"m\", seconds, \"s.\")\n",
    "tcv_to_HMS()\n"
   ]
  },
  {
   "cell_type": "markdown",
   "id": "stylish-liberia",
   "metadata": {},
   "source": [
    "convert mils to kilometers "
   ]
  },
  {
   "cell_type": "code",
   "execution_count": 11,
   "id": "jewish-motor",
   "metadata": {},
   "outputs": [
    {
     "name": "stdout",
     "output_type": "stream",
     "text": [
      "Enter trip in miles:2.76\n",
      "Trip is 4.44084 km.\n"
     ]
    }
   ],
   "source": [
    "# you can use hash to make a comment like this!\n",
    "# input after # is not included in computation in python\n",
    "\n",
    "def cmk():\n",
    "    line = input(\"Enter trip in miles:\")\n",
    "    miles = float(line)\n",
    "    kilomaters = 1.609 * miles\n",
    "    print(\"Trip is\", kilomaters, \"km.\")\n",
    "cmk()"
   ]
  },
  {
   "cell_type": "code",
   "execution_count": null,
   "id": "artificial-veteran",
   "metadata": {},
   "outputs": [],
   "source": []
  }
 ],
 "metadata": {
  "kernelspec": {
   "display_name": "Python 3",
   "language": "python",
   "name": "python3"
  },
  "language_info": {
   "codemirror_mode": {
    "name": "ipython",
    "version": 3
   },
   "file_extension": ".py",
   "mimetype": "text/x-python",
   "name": "python",
   "nbconvert_exporter": "python",
   "pygments_lexer": "ipython3",
   "version": "3.9.1"
  },
  "toc": {
   "base_numbering": 1,
   "nav_menu": {},
   "number_sections": true,
   "sideBar": true,
   "skip_h1_title": false,
   "title_cell": "Table of Contents",
   "title_sidebar": "Contents",
   "toc_cell": false,
   "toc_position": {},
   "toc_section_display": true,
   "toc_window_display": false
  },
  "varInspector": {
   "cols": {
    "lenName": 16,
    "lenType": 16,
    "lenVar": 40
   },
   "kernels_config": {
    "python": {
     "delete_cmd_postfix": "",
     "delete_cmd_prefix": "del ",
     "library": "var_list.py",
     "varRefreshCmd": "print(var_dic_list())"
    },
    "r": {
     "delete_cmd_postfix": ") ",
     "delete_cmd_prefix": "rm(",
     "library": "var_list.r",
     "varRefreshCmd": "cat(var_dic_list()) "
    }
   },
   "types_to_exclude": [
    "module",
    "function",
    "builtin_function_or_method",
    "instance",
    "_Feature"
   ],
   "window_display": false
  }
 },
 "nbformat": 4,
 "nbformat_minor": 5
}
